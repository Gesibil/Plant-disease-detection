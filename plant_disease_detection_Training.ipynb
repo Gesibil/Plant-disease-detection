{
  "cells": [
    {
      "cell_type": "code",
      "execution_count": 11,
      "metadata": {
        "colab": {
          "base_uri": "https://localhost:8080/"
        },
        "id": "_cJS8ItU4dS9",
        "outputId": "1510c101-37ec-4100-e6d3-17fe2f10c203"
      },
      "outputs": [
        {
          "name": "stdout",
          "output_type": "stream",
          "text": [
            "Mounted at /content/gdrive\n"
          ]
        }
      ],
      "source": [
        "from google.colab import drive\n",
        "drive.mount('/content/gdrive')"
      ]
    },
    {
      "cell_type": "code",
      "execution_count": 16,
      "metadata": {
        "_cell_guid": "b1076dfc-b9ad-4769-8c92-a6c4dae69d19",
        "_uuid": "8f2839f25d086af736a60e9eeb907d3b93b6e0e5",
        "id": "xCKnyjhD4ZRB"
      },
      "outputs": [],
      "source": [
        "import numpy as np\n",
        "import pickle\n",
        "import cv2\n",
        "import os\n",
        "import tensorflow as tf\n",
        "from os import listdir\n",
        "from sklearn.preprocessing import LabelBinarizer\n",
        "from keras.models import Sequential\n",
        "from tensorflow.keras.layers import BatchNormalization\n",
        "from keras.layers.convolutional import Conv2D\n",
        "from keras.layers.convolutional import MaxPooling2D\n",
        "from keras.layers.core import Activation, Flatten, Dropout, Dense\n",
        "from keras import backend as K\n",
        "from keras.preprocessing.image import ImageDataGenerator\n",
        "from tensorflow.keras.optimizers import Adam\n",
        "from keras.preprocessing import image\n",
        "from keras.preprocessing.image import img_to_array\n",
        "from sklearn.preprocessing import MultiLabelBinarizer\n",
        "from sklearn.model_selection import train_test_split\n",
        "import matplotlib.pyplot as plt\n",
        "from imutils import paths"
      ]
    },
    {
      "cell_type": "code",
      "execution_count": 17,
      "metadata": {
        "_uuid": "7c3354a78e21a1a62ad0c4689d0ab3238fb760d4",
        "id": "V0hJUAWM4ZRQ"
      },
      "outputs": [],
      "source": [
        "EPOCHS = 35\n",
        "INIT_LR = 1e-3\n",
        "BS = 32\n",
        "default_image_size = tuple((100,100))\n",
        "image_size = 0\n",
        "directory_root = '/content/gdrive/MyDrive/dataset/PlantVillage'\n",
        "width=100\n",
        "height=100\n",
        "depth=3"
      ]
    },
    {
      "cell_type": "markdown",
      "metadata": {
        "_uuid": "2bf7ac0a0b805946f844a48e55d5281403e53f57",
        "id": "mEQmN0WS4ZRd"
      },
      "source": [
        "Function to convert images to array"
      ]
    },
    {
      "cell_type": "code",
      "execution_count": 18,
      "metadata": {
        "_uuid": "c9c3e60b13ace6c8f3e54336e12f9970fde438a3",
        "id": "RcbRlrTH4ZRe"
      },
      "outputs": [],
      "source": [
        "def convert_image_to_array(image_dir):\n",
        "    try:\n",
        "        image = cv2.imread(image_dir)\n",
        "        if image is not None :\n",
        "            image = cv2.resize(image, default_image_size)   \n",
        "            return img_to_array(image)\n",
        "        else :\n",
        "            return np.array([])\n",
        "    except Exception as e:\n",
        "        print(f\"Error : {e}\")\n",
        "        return None"
      ]
    },
    {
      "cell_type": "markdown",
      "metadata": {
        "_uuid": "24d42b87fad54a9556f78357ce673cc5152468c1",
        "id": "ChLlyJ7z4ZRn"
      },
      "source": [
        "Fetch images from directory"
      ]
    },
    {
      "cell_type": "code",
      "execution_count": 20,
      "metadata": {
        "_uuid": "bb8d4c343314028f52ae3c3a840478a834a16c95",
        "id": "hKYlYiCt4ZRp"
      },
      "outputs": [],
      "source": [
        "image_list, label_list = [], []\n",
        "LABELS = set(['Pepper__bell___Bacterial_spot','Pepper__bell___healthy',\n",
        "            'Potato___Early_blight' ,'Potato___Late_blight', 'Potato___healthy',\n",
        "            'Tomato_Bacterial_spot' ,'Tomato_Early_blight', 'Tomato_Late_blight',\n",
        "            'Tomato_Leaf_Mold' ,'Tomato_Septoria_leaf_spot',\n",
        "            'Tomato_Spider_mites_Two_spotted_spider_mite' ,'Tomato__Target_Spot',\n",
        "            'Tomato__YellowLeaf__Curl_Virus', 'Tomato_mosaic_virus',\n",
        "            'Tomato_healthy'])\n",
        "\n",
        "imagePaths = list(paths.list_images(directory_root))\n",
        "\n",
        "for imagePath in imagePaths:\n",
        "    label = imagePath.split(os.path.sep)[-2]\n",
        "    if label not in LABELS:\n",
        "        continue\n",
        "\n",
        "    image = cv2.imread(imagePath)\n",
        "    image = cv2.resize(image, default_image_size) \n",
        "\n",
        "    image_list.append(image)\n",
        "    label_list.append(label)\n",
        "\n",
        "image_list = np.array(image_list)\n",
        "label_list = np.array(label_list)"
      ]
    },
    {
      "cell_type": "markdown",
      "metadata": {
        "_uuid": "35c4b76d33e0263523e479657580104532f81d6e",
        "id": "6fTzv0y84ZRx"
      },
      "source": [
        "Get Size of Processed Image"
      ]
    },
    {
      "cell_type": "code",
      "execution_count": 21,
      "metadata": {
        "_uuid": "6ee1ad9c422f112ec2862699b5c0f68b8d658123",
        "id": "O2-fRddh4ZRy"
      },
      "outputs": [],
      "source": [
        "image_size = len(image_list)"
      ]
    },
    {
      "cell_type": "markdown",
      "metadata": {
        "_uuid": "905b41b226f3fd82a88e67821eb42a07f24b31f7",
        "id": "m1mwPUTN4ZR7"
      },
      "source": [
        "Transform Image Labels uisng [Scikit Learn](http://scikit-learn.org/)'s LabelBinarizer"
      ]
    },
    {
      "cell_type": "code",
      "execution_count": 22,
      "metadata": {
        "_uuid": "904ff893fe14f5060dd9e7be2ccf96ec793597e5",
        "id": "KbEaCulu4ZR8"
      },
      "outputs": [],
      "source": [
        "label_binarizer = LabelBinarizer()\n",
        "image_labels = label_binarizer.fit_transform(label_list)\n",
        "pickle.dump(label_binarizer,open('label_transform.pkl', 'wb'))\n",
        "n_classes = len(label_binarizer.classes_)"
      ]
    },
    {
      "cell_type": "markdown",
      "metadata": {
        "_uuid": "f860c29a1d714f06d25e6a0c5bca94739e5d24cc",
        "id": "6_mRRkrk4ZSE"
      },
      "source": [
        "Print the classes"
      ]
    },
    {
      "cell_type": "code",
      "execution_count": 23,
      "metadata": {
        "_uuid": "0f876397c40c3c8aa09772a92fd60481fc9ba268",
        "colab": {
          "base_uri": "https://localhost:8080/"
        },
        "id": "arZ9HVde4ZSF",
        "outputId": "acee1a87-6853-4efc-fbd8-efdccbe25728"
      },
      "outputs": [
        {
          "name": "stdout",
          "output_type": "stream",
          "text": [
            "['Pepper__bell___Bacterial_spot' 'Pepper__bell___healthy'\n",
            " 'Potato___Early_blight' 'Potato___Late_blight' 'Potato___healthy'\n",
            " 'Tomato_Bacterial_spot' 'Tomato_Early_blight' 'Tomato_Late_blight'\n",
            " 'Tomato_Leaf_Mold' 'Tomato_Septoria_leaf_spot'\n",
            " 'Tomato_Spider_mites_Two_spotted_spider_mite' 'Tomato__Target_Spot'\n",
            " 'Tomato_healthy']\n"
          ]
        }
      ],
      "source": [
        "print(label_binarizer.classes_)"
      ]
    },
    {
      "cell_type": "code",
      "execution_count": 24,
      "metadata": {
        "_uuid": "6cd9c977b3d164a5570a0c24fdd8624adb9d56b8",
        "id": "LmPwGkfW4ZSK"
      },
      "outputs": [],
      "source": [
        "np_image_list = np.array(image_list, dtype=np.float16) / 225.0"
      ]
    },
    {
      "cell_type": "code",
      "execution_count": 25,
      "metadata": {
        "_uuid": "9f4829560fdfa218cee18c1cfb2eb9452ef180e5",
        "colab": {
          "base_uri": "https://localhost:8080/"
        },
        "id": "mVN2zShn4ZSR",
        "outputId": "bdb51a4d-fbb7-48b7-b920-5f0fbad4cbb3"
      },
      "outputs": [
        {
          "name": "stdout",
          "output_type": "stream",
          "text": [
            "[INFO] Spliting data to train, test\n"
          ]
        }
      ],
      "source": [
        "print(\"[INFO] Spliting data to train, test\")\n",
        "x_train, x_test, y_train, y_test = train_test_split(np_image_list, image_labels, test_size=0.2, random_state = 42) "
      ]
    },
    {
      "cell_type": "code",
      "execution_count": 26,
      "metadata": {
        "_uuid": "eec8afa64e676d52c814fc8e096955a60f13b6c5",
        "id": "_El3JmDX4ZSY"
      },
      "outputs": [],
      "source": [
        "aug = ImageDataGenerator(\n",
        "    rotation_range=25, width_shift_range=0.1,\n",
        "    height_shift_range=0.1, shear_range=0.2, \n",
        "    zoom_range=0.2,horizontal_flip=True, \n",
        "    fill_mode=\"nearest\")"
      ]
    },
    {
      "cell_type": "code",
      "execution_count": 27,
      "metadata": {
        "_cell_guid": "79c7e3d0-c299-4dcb-8224-4455121ee9b0",
        "_uuid": "d629ff2d2480ee46fbb7e2d37f6b5fab8052498a",
        "id": "7R8cQhAM4ZSf"
      },
      "outputs": [],
      "source": [
        "model = Sequential()\n",
        "inputShape = (height, width, depth)\n",
        "chanDim = -1\n",
        "if K.image_data_format() == \"channels_first\":\n",
        "    inputShape = (depth, height, width)\n",
        "    chanDim = 1\n",
        "model.add(Conv2D(32, (3, 3), padding=\"same\",input_shape=inputShape))\n",
        "model.add(Activation(\"relu\"))\n",
        "model.add(BatchNormalization(axis=chanDim))\n",
        "model.add(MaxPooling2D(pool_size=(3, 3)))\n",
        "model.add(Dropout(0.25))\n",
        "model.add(Conv2D(64, (3, 3), padding=\"same\"))\n",
        "model.add(Activation(\"relu\"))\n",
        "model.add(BatchNormalization(axis=chanDim))\n",
        "model.add(Conv2D(64, (3, 3), padding=\"same\"))\n",
        "model.add(Activation(\"relu\"))\n",
        "model.add(BatchNormalization(axis=chanDim))\n",
        "model.add(Conv2D(64, (3, 3), padding=\"same\"))\n",
        "model.add(Activation(\"relu\"))\n",
        "model.add(BatchNormalization(axis=chanDim))\n",
        "model.add(MaxPooling2D(pool_size=(2, 2)))\n",
        "model.add(Dropout(0.25))\n",
        "model.add(Conv2D(128, (3, 3), padding=\"same\"))\n",
        "model.add(Activation(\"relu\"))\n",
        "model.add(BatchNormalization(axis=chanDim))\n",
        "model.add(Conv2D(128, (3, 3), padding=\"same\"))\n",
        "model.add(Activation(\"relu\"))\n",
        "model.add(BatchNormalization(axis=chanDim))\n",
        "model.add(MaxPooling2D(pool_size=(2, 2)))\n",
        "model.add(Dropout(0.25))\n",
        "model.add(Flatten())\n",
        "model.add(Dense(1024))\n",
        "model.add(Activation(\"relu\"))\n",
        "model.add(BatchNormalization())\n",
        "model.add(Dropout(0.5))\n",
        "model.add(Dense(n_classes))\n",
        "model.add(Activation(\"softmax\"))"
      ]
    },
    {
      "cell_type": "markdown",
      "metadata": {
        "_uuid": "53b13c03e4cea6dc2453a84e254b806ebeed2d99",
        "id": "9cw7MUhD4ZSl"
      },
      "source": [
        "Model Summary"
      ]
    },
    {
      "cell_type": "code",
      "execution_count": 28,
      "metadata": {
        "_uuid": "1e1523a834fbf872940171fbdefb3dcce2b5f31b",
        "colab": {
          "base_uri": "https://localhost:8080/"
        },
        "id": "8upKzVwR4ZSn",
        "outputId": "faaa364f-12b6-4db0-f0ca-1e024c6ac074"
      },
      "outputs": [
        {
          "name": "stdout",
          "output_type": "stream",
          "text": [
            "Model: \"sequential\"\n",
            "_________________________________________________________________\n",
            " Layer (type)                Output Shape              Param #   \n",
            "=================================================================\n",
            " conv2d (Conv2D)             (None, 100, 100, 32)      896       \n",
            "                                                                 \n",
            " activation (Activation)     (None, 100, 100, 32)      0         \n",
            "                                                                 \n",
            " batch_normalization (BatchN  (None, 100, 100, 32)     128       \n",
            " ormalization)                                                   \n",
            "                                                                 \n",
            " max_pooling2d (MaxPooling2D  (None, 33, 33, 32)       0         \n",
            " )                                                               \n",
            "                                                                 \n",
            " dropout (Dropout)           (None, 33, 33, 32)        0         \n",
            "                                                                 \n",
            " conv2d_1 (Conv2D)           (None, 33, 33, 64)        18496     \n",
            "                                                                 \n",
            " activation_1 (Activation)   (None, 33, 33, 64)        0         \n",
            "                                                                 \n",
            " batch_normalization_1 (Batc  (None, 33, 33, 64)       256       \n",
            " hNormalization)                                                 \n",
            "                                                                 \n",
            " conv2d_2 (Conv2D)           (None, 33, 33, 64)        36928     \n",
            "                                                                 \n",
            " activation_2 (Activation)   (None, 33, 33, 64)        0         \n",
            "                                                                 \n",
            " batch_normalization_2 (Batc  (None, 33, 33, 64)       256       \n",
            " hNormalization)                                                 \n",
            "                                                                 \n",
            " conv2d_3 (Conv2D)           (None, 33, 33, 64)        36928     \n",
            "                                                                 \n",
            " activation_3 (Activation)   (None, 33, 33, 64)        0         \n",
            "                                                                 \n",
            " batch_normalization_3 (Batc  (None, 33, 33, 64)       256       \n",
            " hNormalization)                                                 \n",
            "                                                                 \n",
            " max_pooling2d_1 (MaxPooling  (None, 16, 16, 64)       0         \n",
            " 2D)                                                             \n",
            "                                                                 \n",
            " dropout_1 (Dropout)         (None, 16, 16, 64)        0         \n",
            "                                                                 \n",
            " conv2d_4 (Conv2D)           (None, 16, 16, 128)       73856     \n",
            "                                                                 \n",
            " activation_4 (Activation)   (None, 16, 16, 128)       0         \n",
            "                                                                 \n",
            " batch_normalization_4 (Batc  (None, 16, 16, 128)      512       \n",
            " hNormalization)                                                 \n",
            "                                                                 \n",
            " conv2d_5 (Conv2D)           (None, 16, 16, 128)       147584    \n",
            "                                                                 \n",
            " activation_5 (Activation)   (None, 16, 16, 128)       0         \n",
            "                                                                 \n",
            " batch_normalization_5 (Batc  (None, 16, 16, 128)      512       \n",
            " hNormalization)                                                 \n",
            "                                                                 \n",
            " max_pooling2d_2 (MaxPooling  (None, 8, 8, 128)        0         \n",
            " 2D)                                                             \n",
            "                                                                 \n",
            " dropout_2 (Dropout)         (None, 8, 8, 128)         0         \n",
            "                                                                 \n",
            " flatten (Flatten)           (None, 8192)              0         \n",
            "                                                                 \n",
            " dense (Dense)               (None, 1024)              8389632   \n",
            "                                                                 \n",
            " activation_6 (Activation)   (None, 1024)              0         \n",
            "                                                                 \n",
            " batch_normalization_6 (Batc  (None, 1024)             4096      \n",
            " hNormalization)                                                 \n",
            "                                                                 \n",
            " dropout_3 (Dropout)         (None, 1024)              0         \n",
            "                                                                 \n",
            " dense_1 (Dense)             (None, 13)                13325     \n",
            "                                                                 \n",
            " activation_7 (Activation)   (None, 13)                0         \n",
            "                                                                 \n",
            "=================================================================\n",
            "Total params: 8,723,661\n",
            "Trainable params: 8,720,653\n",
            "Non-trainable params: 3,008\n",
            "_________________________________________________________________\n"
          ]
        }
      ],
      "source": [
        "model.summary()"
      ]
    },
    {
      "cell_type": "code",
      "execution_count": 29,
      "metadata": {
        "_uuid": "b21dffee32c325136b4ea23ac511049723f34a24",
        "colab": {
          "base_uri": "https://localhost:8080/"
        },
        "id": "OOVp2r0i4ZSt",
        "outputId": "03fc4891-2b17-457a-c7a0-874bcec52bf6"
      },
      "outputs": [
        {
          "name": "stdout",
          "output_type": "stream",
          "text": [
            "[INFO] training network...\n"
          ]
        },
        {
          "name": "stderr",
          "output_type": "stream",
          "text": [
            "/usr/local/lib/python3.7/dist-packages/keras/optimizer_v2/adam.py:105: UserWarning: The `lr` argument is deprecated, use `learning_rate` instead.\n",
            "  super(Adam, self).__init__(name, **kwargs)\n"
          ]
        }
      ],
      "source": [
        "#Compiling Model\n",
        "opt = Adam(lr=INIT_LR, decay=INIT_LR / EPOCHS)\n",
        "# distribution\n",
        "model.compile(loss=\"binary_crossentropy\", optimizer=opt,metrics=[\"accuracy\"])\n",
        "# train the network\n",
        "print(\"[INFO] training network...\")"
      ]
    },
    {
      "cell_type": "code",
      "execution_count": 30,
      "metadata": {
        "_uuid": "1a13efc5ded339fc3c0d9e61041e8ca555362db0",
        "colab": {
          "base_uri": "https://localhost:8080/"
        },
        "id": "dMxT_lf14ZSz",
        "outputId": "ffc418f3-491f-4ce6-c668-7dbffeebb114"
      },
      "outputs": [
        {
          "name": "stderr",
          "output_type": "stream",
          "text": [
            "/usr/local/lib/python3.7/dist-packages/ipykernel_launcher.py:6: UserWarning: `Model.fit_generator` is deprecated and will be removed in a future version. Please use `Model.fit`, which supports generators.\n",
            "  \n"
          ]
        },
        {
          "name": "stdout",
          "output_type": "stream",
          "text": [
            "Epoch 1/35\n",
            "426/426 [==============================] - 55s 90ms/step - loss: 0.2529 - accuracy: 0.5499 - val_loss: 0.6664 - val_accuracy: 0.2079\n",
            "Epoch 2/35\n",
            "426/426 [==============================] - 35s 83ms/step - loss: 0.1061 - accuracy: 0.7619 - val_loss: 0.6224 - val_accuracy: 0.3548\n",
            "Epoch 3/35\n",
            "426/426 [==============================] - 35s 82ms/step - loss: 0.0847 - accuracy: 0.8143 - val_loss: 0.9107 - val_accuracy: 0.2865\n",
            "Epoch 4/35\n",
            "426/426 [==============================] - 36s 86ms/step - loss: 0.0761 - accuracy: 0.8381 - val_loss: 0.1014 - val_accuracy: 0.7760\n",
            "Epoch 5/35\n",
            "426/426 [==============================] - 35s 82ms/step - loss: 0.0621 - accuracy: 0.8681 - val_loss: 0.1982 - val_accuracy: 0.6223\n",
            "Epoch 6/35\n",
            "426/426 [==============================] - 35s 82ms/step - loss: 0.0545 - accuracy: 0.8868 - val_loss: 0.3930 - val_accuracy: 0.5041\n",
            "Epoch 7/35\n",
            "426/426 [==============================] - 34s 81ms/step - loss: 0.0511 - accuracy: 0.8942 - val_loss: 0.4814 - val_accuracy: 0.5827\n",
            "Epoch 8/35\n",
            "426/426 [==============================] - 35s 82ms/step - loss: 0.0441 - accuracy: 0.9104 - val_loss: 0.1036 - val_accuracy: 0.7845\n",
            "Epoch 9/35\n",
            "426/426 [==============================] - 35s 81ms/step - loss: 0.0436 - accuracy: 0.9118 - val_loss: 0.1953 - val_accuracy: 0.6821\n",
            "Epoch 10/35\n",
            "426/426 [==============================] - 34s 81ms/step - loss: 0.0404 - accuracy: 0.9205 - val_loss: 0.0271 - val_accuracy: 0.9484\n",
            "Epoch 11/35\n",
            "426/426 [==============================] - 36s 84ms/step - loss: 0.0378 - accuracy: 0.9236 - val_loss: 0.1442 - val_accuracy: 0.7944\n",
            "Epoch 12/35\n",
            "426/426 [==============================] - 34s 80ms/step - loss: 0.0326 - accuracy: 0.9354 - val_loss: 0.6208 - val_accuracy: 0.4633\n",
            "Epoch 13/35\n",
            "426/426 [==============================] - 34s 80ms/step - loss: 0.0345 - accuracy: 0.9317 - val_loss: 0.3086 - val_accuracy: 0.6710\n",
            "Epoch 14/35\n",
            "426/426 [==============================] - 35s 81ms/step - loss: 0.0308 - accuracy: 0.9405 - val_loss: 0.1576 - val_accuracy: 0.7965\n",
            "Epoch 15/35\n",
            "426/426 [==============================] - 37s 86ms/step - loss: 0.0278 - accuracy: 0.9459 - val_loss: 0.3014 - val_accuracy: 0.6015\n",
            "Epoch 16/35\n",
            "426/426 [==============================] - 35s 81ms/step - loss: 0.0251 - accuracy: 0.9519 - val_loss: 0.1028 - val_accuracy: 0.8023\n",
            "Epoch 17/35\n",
            "426/426 [==============================] - 35s 81ms/step - loss: 0.0237 - accuracy: 0.9533 - val_loss: 0.2113 - val_accuracy: 0.7798\n",
            "Epoch 18/35\n",
            "426/426 [==============================] - 35s 81ms/step - loss: 0.0270 - accuracy: 0.9476 - val_loss: 0.1312 - val_accuracy: 0.8164\n",
            "Epoch 19/35\n",
            "426/426 [==============================] - 36s 85ms/step - loss: 0.0243 - accuracy: 0.9540 - val_loss: 0.1316 - val_accuracy: 0.7777\n",
            "Epoch 20/35\n",
            "426/426 [==============================] - 35s 82ms/step - loss: 0.0198 - accuracy: 0.9627 - val_loss: 0.1577 - val_accuracy: 0.8252\n",
            "Epoch 21/35\n",
            "426/426 [==============================] - 36s 84ms/step - loss: 0.0185 - accuracy: 0.9662 - val_loss: 0.1086 - val_accuracy: 0.8367\n",
            "Epoch 22/35\n",
            "426/426 [==============================] - 36s 85ms/step - loss: 0.0206 - accuracy: 0.9610 - val_loss: 0.0751 - val_accuracy: 0.8598\n",
            "Epoch 23/35\n",
            "426/426 [==============================] - 34s 81ms/step - loss: 0.0216 - accuracy: 0.9596 - val_loss: 0.3269 - val_accuracy: 0.6997\n",
            "Epoch 24/35\n",
            "426/426 [==============================] - 35s 82ms/step - loss: 0.0182 - accuracy: 0.9668 - val_loss: 0.0194 - val_accuracy: 0.9636\n",
            "Epoch 25/35\n",
            "426/426 [==============================] - 35s 81ms/step - loss: 0.0194 - accuracy: 0.9642 - val_loss: 0.3031 - val_accuracy: 0.7273\n",
            "Epoch 26/35\n",
            "426/426 [==============================] - 37s 86ms/step - loss: 0.0164 - accuracy: 0.9705 - val_loss: 0.0825 - val_accuracy: 0.8548\n",
            "Epoch 27/35\n",
            "426/426 [==============================] - 35s 82ms/step - loss: 0.0197 - accuracy: 0.9643 - val_loss: 0.3524 - val_accuracy: 0.6771\n",
            "Epoch 28/35\n",
            "426/426 [==============================] - 35s 82ms/step - loss: 0.0195 - accuracy: 0.9674 - val_loss: 0.1393 - val_accuracy: 0.7716\n",
            "Epoch 29/35\n",
            "426/426 [==============================] - 35s 82ms/step - loss: 0.0155 - accuracy: 0.9712 - val_loss: 0.1034 - val_accuracy: 0.8223\n",
            "Epoch 30/35\n",
            "426/426 [==============================] - 36s 85ms/step - loss: 0.0143 - accuracy: 0.9748 - val_loss: 0.0544 - val_accuracy: 0.9085\n",
            "Epoch 31/35\n",
            "426/426 [==============================] - 34s 81ms/step - loss: 0.0136 - accuracy: 0.9758 - val_loss: 0.4007 - val_accuracy: 0.6267\n",
            "Epoch 32/35\n",
            "426/426 [==============================] - 34s 81ms/step - loss: 0.0279 - accuracy: 0.9508 - val_loss: 0.1304 - val_accuracy: 0.8628\n",
            "Epoch 33/35\n",
            "426/426 [==============================] - 34s 80ms/step - loss: 0.0145 - accuracy: 0.9753 - val_loss: 0.0610 - val_accuracy: 0.8883\n",
            "Epoch 34/35\n",
            "426/426 [==============================] - 36s 85ms/step - loss: 0.0134 - accuracy: 0.9755 - val_loss: 0.6398 - val_accuracy: 0.6387\n",
            "Epoch 35/35\n",
            "426/426 [==============================] - 35s 82ms/step - loss: 0.0308 - accuracy: 0.9448 - val_loss: 0.1510 - val_accuracy: 0.8328\n"
          ]
        }
      ],
      "source": [
        "#Fitting Model\n",
        "history = model.fit_generator(\n",
        "    aug.flow(x_train, y_train, batch_size=BS),\n",
        "    validation_data=(x_test, y_test),\n",
        "    steps_per_epoch=len(x_train) // BS,\n",
        "    epochs=EPOCHS, verbose=1\n",
        "    )"
      ]
    },
    {
      "cell_type": "markdown",
      "metadata": {
        "_uuid": "9ca1a4489bd624c69a13cd37c0c2306ac8de55c2",
        "id": "qmEqqjng4ZTC"
      },
      "source": [
        "Model Accuracy"
      ]
    },
    {
      "cell_type": "code",
      "execution_count": 31,
      "metadata": {
        "_uuid": "bb44f3d0b7e2862bc7d1a032612ebfd48212c1fe",
        "colab": {
          "base_uri": "https://localhost:8080/"
        },
        "id": "mP34m5l34ZTD",
        "outputId": "0d507042-1386-46b5-cabd-166f5fa35452"
      },
      "outputs": [
        {
          "name": "stdout",
          "output_type": "stream",
          "text": [
            "[INFO] Calculating model accuracy\n",
            "107/107 [==============================] - 1s 8ms/step - loss: 0.1510 - accuracy: 0.8328\n",
            "Test Accuracy: 83.28445553779602\n"
          ]
        }
      ],
      "source": [
        "print(\"[INFO] Calculating model accuracy\")\n",
        "scores = model.evaluate(x_test, y_test)\n",
        "print(f\"Test Accuracy: {scores[1]*100}\")"
      ]
    },
    {
      "cell_type": "code",
      "execution_count": 32,
      "metadata": {
        "id": "bHEC2HyWLnHG"
      },
      "outputs": [],
      "source": [
        "# Save the model using TensorFlow SavedModel format\n",
        "model.save('my_model.h5')"
      ]
    },
    {
      "cell_type": "code",
      "execution_count": 33,
      "metadata": {
        "colab": {
          "base_uri": "https://localhost:8080/"
        },
        "id": "Z0F35n2shbj4",
        "outputId": "934c06b5-dcc6-421f-ce8d-fb22b5bad0d0"
      },
      "outputs": [
        {
          "name": "stdout",
          "output_type": "stream",
          "text": [
            "427/427 [==============================] - 3s 8ms/step - loss: 0.1341 - accuracy: 0.8475\n",
            "Test Accuracy: 84.75471138954163\n"
          ]
        }
      ],
      "source": [
        "scores = model.evaluate(x_train, y_train)\n",
        "print(f\"Test Accuracy: {scores[1]*100}\")"
      ]
    },
    {
      "cell_type": "code",
      "execution_count": null,
      "metadata": {
        "id": "Z7FrhSXUjlVz"
      },
      "outputs": [],
      "source": []
    }
  ],
  "metadata": {
    "accelerator": "GPU",
    "colab": {
      "collapsed_sections": [],
      "name": "plant-disease-detection-Training.ipynb",
      "provenance": []
    },
    "kernelspec": {
      "display_name": "Python 3",
      "language": "python",
      "name": "python3"
    },
    "language_info": {
      "codemirror_mode": {
        "name": "ipython",
        "version": 3
      },
      "file_extension": ".py",
      "mimetype": "text/x-python",
      "name": "python",
      "nbconvert_exporter": "python",
      "pygments_lexer": "ipython3",
      "version": "3.8.5"
    }
  },
  "nbformat": 4,
  "nbformat_minor": 0
}
